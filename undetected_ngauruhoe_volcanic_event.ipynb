{
 "cells": [
  {
   "cell_type": "markdown",
   "metadata": {},
   "source": [
    "# Quick and Dirty Visualization of An Undetected Ngauruhoe Event\n",
    "\n",
    "To be used to propmpy discussion of volcano-focussed sub-networks at SC3 usergroup meeting in Avalon in March 2019"
   ]
  },
  {
   "cell_type": "code",
   "execution_count": 46,
   "metadata": {},
   "outputs": [
    {
     "data": {
      "application/javascript": [
       "IPython.OutputArea.prototype._should_scroll = function(lines) {\n",
       "    return false;\n",
       "}\n"
      ],
      "text/plain": [
       "<IPython.core.display.Javascript object>"
      ]
     },
     "metadata": {},
     "output_type": "display_data"
    }
   ],
   "source": [
    "%%javascript\n",
    "IPython.OutputArea.prototype._should_scroll = function(lines) {\n",
    "    return false;\n",
    "}"
   ]
  },
  {
   "cell_type": "code",
   "execution_count": 47,
   "metadata": {},
   "outputs": [],
   "source": [
    "from obspy import UTCDateTime\n",
    "from obspy.clients.fdsn import Client as FDSN_Client\n",
    "from obspy import Stream"
   ]
  },
  {
   "cell_type": "code",
   "execution_count": 48,
   "metadata": {},
   "outputs": [],
   "source": [
    "nrt_client = 'http://service-nrt.geonet.org.nz'\n",
    "client = FDSN_Client(nrt_client)"
   ]
  },
  {
   "cell_type": "code",
   "execution_count": 49,
   "metadata": {},
   "outputs": [],
   "source": [
    "start = '2019-02-11T09:21:30Z'\n",
    "end = '2019-02-11T09:23:30Z'"
   ]
  },
  {
   "cell_type": "code",
   "execution_count": 50,
   "metadata": {},
   "outputs": [],
   "source": [
    "inventory = client.get_stations(latitude=-39.157,\n",
    "                                longitude=175.632,\n",
    "                                maxradius=0.25,\n",
    "                                channel=\"?HZ\",\n",
    "                                level=\"channel\",\n",
    "                                starttime = start,\n",
    "                                endtime = end)\n",
    "# print(inventory)"
   ]
  },
  {
   "cell_type": "code",
   "execution_count": 51,
   "metadata": {},
   "outputs": [],
   "source": [
    "station_list = ['FWVZ', 'TUVZ', 'NTVZ', 'TMVZ', 'KRVZ', 'COVZ', 'WTVZ', 'ETVZ', 'NNVZ', 'SNVZ', 'NGZ', 'OTVZ']\n",
    "st = Stream()\n",
    "\n",
    "for network in inventory:\n",
    "    for station in network:\n",
    "        try:\n",
    "            st += client.get_waveforms(network.code, station.code, \"*\", \"EHZ,HHZ\", start, end)\n",
    "        except:\n",
    "            pass"
   ]
  },
  {
   "cell_type": "code",
   "execution_count": 52,
   "metadata": {
    "scrolled": true
   },
   "outputs": [
    {
     "data": {
      "text/plain": [
       "18 Trace(s) in Stream:\n",
       "NZ.COVZ.10.HHZ | 2019-02-11T09:21:31.508389Z - 2019-02-11T09:23:35.608389Z | 100.0 Hz, 12411 samples\n",
       "NZ.ETVZ.10.HHZ | 2019-02-11T09:21:30.053130Z - 2019-02-11T09:23:31.313130Z | 100.0 Hz, 12127 samples\n",
       "NZ.FWVZ.10.HHZ | 2019-02-11T09:21:31.163131Z - 2019-02-11T09:23:34.213131Z | 100.0 Hz, 12306 samples\n",
       "NZ.KATZ.10.EHZ | 2019-02-11T09:21:34.168389Z - 2019-02-11T09:23:31.678389Z | 100.0 Hz, 11752 samples\n",
       "NZ.KRVZ.10.EHZ | 2019-02-11T09:21:36.243124Z - 2019-02-11T09:23:32.953124Z | 100.0 Hz, 11672 samples\n",
       "NZ.MAVZ.10.HHZ | 2019-02-11T09:21:34.633130Z - 2019-02-11T09:23:34.003130Z | 100.0 Hz, 11938 samples\n",
       "NZ.NGZ.10.EHZ  | 2019-02-11T09:21:32.243131Z - 2019-02-11T09:23:32.863131Z | 100.0 Hz, 12063 samples\n",
       "NZ.NNVZ.10.EHZ | 2019-02-11T09:21:33.593130Z - 2019-02-11T09:23:32.233130Z | 100.0 Hz, 11865 samples\n",
       "NZ.NTVZ.10.HHZ | 2019-02-11T09:21:31.218394Z - 2019-02-11T09:23:32.448394Z | 100.0 Hz, 12124 samples\n",
       "NZ.OTVZ.10.HHZ | 2019-02-11T09:21:32.763132Z - 2019-02-11T09:23:33.383132Z | 100.0 Hz, 12063 samples\n",
       "NZ.SNVZ.10.EHZ | 2019-02-11T09:21:34.523132Z - 2019-02-11T09:23:30.793132Z | 100.0 Hz, 11628 samples\n",
       "NZ.TMVZ.10.HHZ | 2019-02-11T09:21:31.903133Z - 2019-02-11T09:23:32.323133Z | 100.0 Hz, 12043 samples\n",
       "NZ.TRVZ.10.HHZ | 2019-02-11T09:21:34.223135Z - 2019-02-11T09:23:30.103135Z | 100.0 Hz, 11589 samples\n",
       "NZ.TUVZ.10.EHZ | 2019-02-11T09:21:31.628393Z - 2019-02-11T09:23:34.958393Z | 100.0 Hz, 12334 samples\n",
       "NZ.TWVZ.10.EHZ | 2019-02-11T09:21:31.208391Z - 2019-02-11T09:23:31.488391Z | 100.0 Hz, 12029 samples\n",
       "NZ.WHVZ.10.HHZ | 2019-02-11T09:21:32.243130Z - 2019-02-11T09:23:33.463130Z | 100.0 Hz, 12123 samples\n",
       "NZ.WNVZ.11.EHZ | 2019-02-11T09:21:35.913131Z - 2019-02-11T09:23:30.713131Z | 100.0 Hz, 11481 samples\n",
       "NZ.WTVZ.10.EHZ | 2019-02-11T09:21:31.593133Z - 2019-02-11T09:23:35.163133Z | 100.0 Hz, 12358 samples"
      ]
     },
     "execution_count": 52,
     "metadata": {},
     "output_type": "execute_result"
    }
   ],
   "source": [
    "st.detrend(type='demean')\n",
    "st.filter('highpass', freq=0.5, corners=2, zerophase=True)"
   ]
  },
  {
   "cell_type": "code",
   "execution_count": 57,
   "metadata": {},
   "outputs": [],
   "source": [
    "st.plot(equal_scale=False, size=(1000,1000), outfile='undetected_ngauruhoe_volcanic_event.png')"
   ]
  }
 ],
 "metadata": {
  "kernelspec": {
   "display_name": "Python 3",
   "language": "python",
   "name": "python3"
  },
  "language_info": {
   "codemirror_mode": {
    "name": "ipython",
    "version": 3
   },
   "file_extension": ".py",
   "mimetype": "text/x-python",
   "name": "python",
   "nbconvert_exporter": "python",
   "pygments_lexer": "ipython3",
   "version": "3.6.7"
  }
 },
 "nbformat": 4,
 "nbformat_minor": 2
}
